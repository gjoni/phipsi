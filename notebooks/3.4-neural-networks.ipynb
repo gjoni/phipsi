{
 "cells": [
  {
   "cell_type": "code",
   "execution_count": null,
   "metadata": {},
   "outputs": [],
   "source": [
    "%%time\n",
    "from sklearn.neural_network import MLPClassifier\n",
    "mlp = MLPClassifier(hidden_layer_sizes=(100),max_iter=25,verbose=1)\n",
    "mlp.fit(X_train, Y_train)"
   ]
  },
  {
   "cell_type": "code",
   "execution_count": null,
   "metadata": {},
   "outputs": [],
   "source": [
    "# calculate weighted averages\n",
    "avec = np.matmul(mlp.predict_proba(X_test), kmeans.cluster_centers_)\n",
    "\n",
    "# vectors of weighted averages avec[..] might not represent\n",
    "# true sin(.),cos(.) pairs any more -- need to normalize them\n",
    "norm_phi = np.sqrt(np.square(avec[:,0])+np.square(avec[:,1]))\n",
    "norm_psi = np.sqrt(np.square(avec[:,2])+np.square(avec[:,3]))\n",
    "phi_pred = np.arctan2(avec[:,0] / norm_phi, avec[:,1] / norm_phi)\n",
    "psi_pred = np.arctan2(avec[:,2] / norm_psi, avec[:,3] / norm_psi)\n",
    "\n",
    "# new error estimates\n",
    "print(\"rmse(phi)= {:.3f}\".format(ang_rmse(phi_ref, phi_pred) * 180 / np.pi))\n",
    "print(\"rmse(psi)= {:.3f}\".format(ang_rmse(psi_ref, psi_pred) * 180 / np.pi))\n"
   ]
  }
 ],
 "metadata": {
  "kernelspec": {
   "display_name": "Python [conda env:anaconda3]",
   "language": "python",
   "name": "conda-env-anaconda3-py"
  },
  "language_info": {
   "codemirror_mode": {
    "name": "ipython",
    "version": 3
   },
   "file_extension": ".py",
   "mimetype": "text/x-python",
   "name": "python",
   "nbconvert_exporter": "python",
   "pygments_lexer": "ipython3",
   "version": "3.6.5"
  }
 },
 "nbformat": 4,
 "nbformat_minor": 2
}

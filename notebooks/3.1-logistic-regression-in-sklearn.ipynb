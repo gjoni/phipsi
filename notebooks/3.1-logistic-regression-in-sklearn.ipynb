{
 "cells": [
  {
   "cell_type": "markdown",
   "metadata": {},
   "source": [
    "## Load the dataset"
   ]
  },
  {
   "cell_type": "code",
   "execution_count": 1,
   "metadata": {},
   "outputs": [],
   "source": [
    "import json, gzip\n",
    "import numpy as np\n",
    "\n",
    "aa2idx = {'A':0, 'R':1, 'N':2, 'D':3, 'C':4, 'Q':5, 'E':6, 'G':7, 'H':8, 'I':9,\n",
    "          'L':10, 'K':11, 'M':12, 'F':13, 'P':14, 'S':15, 'T':16, 'W':17, 'Y':18, 'V':19}\n",
    "\n",
    "# read .json file\n",
    "with gzip.open('../data/phipsi.json.gz', 'rb') as f:\n",
    "    dataset = json.load(f)\n",
    "\n",
    "# reduse dataset to a list for simpler access\n",
    "dataset = dataset['phipsi10882']\n",
    "\n",
    "# convert data to numpy arrays skipping first and last residues\n",
    "for item in dataset:\n",
    "    n = len(item['sequence'])\n",
    "    item['sequence'] = np.array([aa2idx[aa] for aa in item['sequence'][1:n-1]], dtype=np.int8)\n",
    "    item['phi'] = np.array(item['phi'], dtype=np.float32)[1:n-1]\n",
    "    item['psi'] = np.array(item['psi'], dtype=np.float32)[1:n-1]\n",
    "    \n",
    "    # set angle vector:\n",
    "    # convert (phi,psi) to their sin() and cos()\n",
    "    # (4 numbers per angle pair)\n",
    "    item['avec'] = np.vstack([\n",
    "        np.sin(item['phi']).T,\n",
    "        np.cos(item['phi']).T,\n",
    "        np.sin(item['psi']).T,\n",
    "        np.cos(item['psi']).T ]).T"
   ]
  },
  {
   "cell_type": "markdown",
   "metadata": {},
   "source": [
    "## Train / test split"
   ]
  },
  {
   "cell_type": "code",
   "execution_count": 2,
   "metadata": {},
   "outputs": [
    {
     "name": "stdout",
     "output_type": "stream",
     "text": [
      "Train size: 9793 proteins\n",
      "Test size: 1089 proteins\n"
     ]
    }
   ],
   "source": [
    "from sklearn.model_selection import train_test_split\n",
    "\n",
    "train,test = train_test_split(dataset, test_size=0.1, random_state=42)\n",
    "\n",
    "print(\"Train size: {} proteins\".format(len(train)))\n",
    "print(\"Test size: {} proteins\".format(len(test)))\n"
   ]
  },
  {
   "cell_type": "markdown",
   "metadata": {},
   "source": [
    "## K-means clusters from angle vectors"
   ]
  },
  {
   "cell_type": "code",
   "execution_count": 3,
   "metadata": {},
   "outputs": [],
   "source": [
    "from sklearn.cluster import KMeans\n",
    "\n",
    "# combine all proteins in the training set\n",
    "# into one vector X\n",
    "X = np.vstack([item['avec'] for item in train])\n",
    "\n",
    "# split into 20 clusters\n",
    "kmeans = KMeans(n_clusters=20, max_iter=5, n_jobs=4).fit(X)\n"
   ]
  },
  {
   "cell_type": "markdown",
   "metadata": {},
   "source": [
    "Assign all dihedral pairs (&phi;,&psi;) to the inferred clusters"
   ]
  },
  {
   "cell_type": "code",
   "execution_count": 4,
   "metadata": {},
   "outputs": [],
   "source": [
    "# save cluster IDs for both train and test sets\n",
    "for subset in (train, test):\n",
    "    for item in subset:\n",
    "        item['abin'] = np.array(kmeans.predict(item['avec']), dtype=np.int8)"
   ]
  },
  {
   "cell_type": "markdown",
   "metadata": {},
   "source": [
    "## Split sequences into chunks of equal length"
   ]
  },
  {
   "cell_type": "code",
   "execution_count": 7,
   "metadata": {},
   "outputs": [],
   "source": [
    "def set_window(train, test, WINDOW):\n",
    "    for subset in (train, test):\n",
    "        for item in subset:\n",
    "            l = len(item['sequence'])\n",
    "\n",
    "            abin = item['abin']\n",
    "            seq = item['sequence']\n",
    "\n",
    "            # for every window, pick the element in the middle and\n",
    "            # save corresponding dihedral cluster ID in item['Y']\n",
    "            item['Y'] = np.hstack([item[WINDOW//2] \n",
    "                                   for shift in range(0,WINDOW,1) \n",
    "                                   for item in np.split(abin[shift:],range(shift,l,WINDOW)) \n",
    "                                   if len(item) == WINDOW])\n",
    "\n",
    "            # use 1-hot encoding for every sequence chunk\n",
    "            seq_chunks = np.vstack([item for shift in range(0,WINDOW,1) \n",
    "                                    for item in np.split(seq[shift:],range(shift,l,WINDOW)) \n",
    "                                    if len(item) == WINDOW])\n",
    "            item['X'] = np.array(np.eye(20)[seq_chunks], dtype=np.int8).reshape((seq_chunks.shape[0],-1))"
   ]
  },
  {
   "cell_type": "markdown",
   "metadata": {},
   "source": [
    "Test ```set_window(..)``` function (might take ~1 min)"
   ]
  },
  {
   "cell_type": "code",
   "execution_count": 6,
   "metadata": {},
   "outputs": [
    {
     "name": "stdout",
     "output_type": "stream",
     "text": [
      "Sequence length: 80\n",
      "Number of 13-mers: 62\n",
      "Number of features: 260\n"
     ]
    }
   ],
   "source": [
    "WINDOW = 13\n",
    "\n",
    "set_window(train, test, WINDOW)\n",
    "\n",
    "item = test[42]\n",
    "print(\"Sequence length: {}\".format(len(item['sequence'])))\n",
    "print(\"Number of {}-mers: {}\".format(WINDOW, item['X'].shape[0]))\n",
    "print(\"Number of features: {}\".format(item['X'].shape[1]))"
   ]
  },
  {
   "cell_type": "markdown",
   "metadata": {},
   "source": [
    "## Logistic regression - first try\n",
    "\n",
    "Stack X and Y vectors from all proteins together to create single train/test vectors"
   ]
  },
  {
   "cell_type": "code",
   "execution_count": 8,
   "metadata": {},
   "outputs": [
    {
     "name": "stdout",
     "output_type": "stream",
     "text": [
      "X_train shape: (1968990, 260)\n",
      "Y_train shape: (1968990,)\n"
     ]
    }
   ],
   "source": [
    "X_train = np.vstack([item['X'] for item in train])\n",
    "Y_train = np.hstack([item['Y'] for item in train])\n",
    "\n",
    "X_test = np.vstack([item['X'] for item in test])\n",
    "Y_test = np.hstack([item['Y'] for item in test])\n",
    "\n",
    "print(\"X_train shape: {}\".format(X_train.shape))\n",
    "print(\"Y_train shape: {}\".format(Y_train.shape))"
   ]
  },
  {
   "cell_type": "markdown",
   "metadata": {},
   "source": [
    "Applying regular ```sklearn```'s ```LogisticRegression``` to the entire training set is quite time-consuming (~1 hour per one run). A workaround is mini batch logistic regression accessible via ```SGDClassifier``` class with ```loss``` parameter set to ```'log'```"
   ]
  },
  {
   "cell_type": "code",
   "execution_count": 9,
   "metadata": {},
   "outputs": [
    {
     "data": {
      "text/plain": [
       "SGDClassifier(alpha=0.0001, average=False, class_weight=None, epsilon=0.1,\n",
       "       eta0=0.0, fit_intercept=True, l1_ratio=0.15,\n",
       "       learning_rate='optimal', loss='log', max_iter=1000, n_iter=None,\n",
       "       n_jobs=4, penalty='l2', power_t=0.5, random_state=None,\n",
       "       shuffle=True, tol=0.001, verbose=0, warm_start=False)"
      ]
     },
     "execution_count": 9,
     "metadata": {},
     "output_type": "execute_result"
    }
   ],
   "source": [
    "from sklearn.linear_model import SGDClassifier\n",
    "\n",
    "sgd = SGDClassifier(max_iter=1000, tol=1e-3, loss='log', n_jobs=4)\n",
    "sgd.fit(X_train, Y_train)"
   ]
  },
  {
   "cell_type": "code",
   "execution_count": 13,
   "metadata": {},
   "outputs": [
    {
     "name": "stdout",
     "output_type": "stream",
     "text": [
      "Train/test scores: 0.34592405243297325 / 0.3461297356227855\n"
     ]
    }
   ],
   "source": [
    "print(\"Train/test scores: {} / {}\".format(sgd.score(X_train, Y_train), sgd.score(X_test, Y_test)))"
   ]
  },
  {
   "cell_type": "markdown",
   "metadata": {},
   "source": [
    "Convert predictions back to angles and plot"
   ]
  },
  {
   "cell_type": "code",
   "execution_count": null,
   "metadata": {},
   "outputs": [],
   "source": []
  },
  {
   "cell_type": "markdown",
   "metadata": {},
   "source": [
    "## Optimal window size"
   ]
  },
  {
   "cell_type": "code",
   "execution_count": 14,
   "metadata": {},
   "outputs": [
    {
     "name": "stdout",
     "output_type": "stream",
     "text": [
      "1 0.3062727943973329 0.30564106414395475\n",
      "3 0.3211360730852575 0.32045670789724073\n",
      "5 0.33137072215464514 0.3314937737984975\n",
      "7 0.3385323317422794 0.33946099216755604\n",
      "9 0.3422915470758694 0.34291978788921534\n",
      "11 0.3444799233775144 0.34514137873925166\n",
      "13 0.34531663441662985 0.3459843735804488\n",
      "15 0.345697668243787 0.34602739852355985\n",
      "17 0.3452674858341814 0.345416327256725\n",
      "19 0.3448993621511091 0.34478151935684775\n",
      "21 0.3446404334598419 0.3446768850384879\n",
      "23 0.34356287753740256 0.34338880276300554\n"
     ]
    }
   ],
   "source": [
    "for WINDOW in range(1,25,2):\n",
    "    set_window(train, test, WINDOW)\n",
    "    \n",
    "    X_train = np.vstack([item['X'] for item in train])\n",
    "    Y_train = np.hstack([item['Y'] for item in train])\n",
    "    X_test = np.vstack([item['X'] for item in test])\n",
    "    Y_test = np.hstack([item['Y'] for item in test])\n",
    "    \n",
    "    sgd = SGDClassifier(max_iter=10, tol=1e-3, loss='log', n_jobs=8)\n",
    "    sgd.fit(X_train, Y_train)\n",
    "\n",
    "    print(WINDOW, sgd.score(X_train, Y_train), sgd.score(X_test, Y_test))"
   ]
  },
  {
   "cell_type": "markdown",
   "metadata": {},
   "source": [
    "## Hyperparameter tuning"
   ]
  },
  {
   "cell_type": "code",
   "execution_count": 18,
   "metadata": {},
   "outputs": [],
   "source": [
    "set_window(train, test, 15)"
   ]
  },
  {
   "cell_type": "code",
   "execution_count": 33,
   "metadata": {},
   "outputs": [],
   "source": [
    "from sklearn.model_selection import GridSearchCV\n",
    "\n",
    "params = {'l1_ratio' : np.linspace(0.0, 1.0, 11), 'alpha' : [1e-5, 1e-4, 1e-3, 1e-2, 1e-1, 1] }\n",
    "\n",
    "X_train = np.vstack([item['X'] for item in train[::10]])\n",
    "Y_train = np.hstack([item['Y'] for item in train[::10]])\n",
    "\n",
    "sgd = SGDClassifier(max_iter=100, tol=1e-3, loss='log', n_jobs=1)\n",
    "hsearch = GridSearchCV(sgd, params, cv=3, verbose=2, n_jobs=8)\n"
   ]
  },
  {
   "cell_type": "code",
   "execution_count": 34,
   "metadata": {},
   "outputs": [
    {
     "name": "stdout",
     "output_type": "stream",
     "text": [
      "Fitting 3 folds for each of 66 candidates, totalling 198 fits\n",
      "[CV] alpha=1e-05, l1_ratio=0.0 .......................................\n",
      "[CV] alpha=1e-05, l1_ratio=0.0 .......................................\n",
      "[CV] alpha=1e-05, l1_ratio=0.0 .......................................\n",
      "[CV] alpha=1e-05, l1_ratio=0.1 .......................................\n",
      "[CV] alpha=1e-05, l1_ratio=0.1 .......................................\n",
      "[CV] alpha=1e-05, l1_ratio=0.1 .......................................\n",
      "[CV] alpha=1e-05, l1_ratio=0.2 .......................................\n",
      "[CV] alpha=1e-05, l1_ratio=0.2 .......................................\n",
      "[CV] ........................ alpha=1e-05, l1_ratio=0.0, total= 1.5min\n",
      "[CV] alpha=1e-05, l1_ratio=0.2 .......................................\n",
      "[CV] ........................ alpha=1e-05, l1_ratio=0.2, total= 1.5min\n",
      "[CV] alpha=1e-05, l1_ratio=0.30000000000000004 .......................\n",
      "[CV] ........................ alpha=1e-05, l1_ratio=0.2, total= 2.1min\n",
      "[CV] alpha=1e-05, l1_ratio=0.30000000000000004 .......................\n",
      "[CV] ........................ alpha=1e-05, l1_ratio=0.1, total= 2.1min\n",
      "[CV] alpha=1e-05, l1_ratio=0.30000000000000004 .......................\n",
      "[CV] ........................ alpha=1e-05, l1_ratio=0.0, total= 2.3min\n",
      "[CV] alpha=1e-05, l1_ratio=0.4 .......................................\n",
      "[CV] ........................ alpha=1e-05, l1_ratio=0.1, total= 2.4min\n",
      "[CV] alpha=1e-05, l1_ratio=0.4 .......................................\n",
      "[CV] ........................ alpha=1e-05, l1_ratio=0.0, total= 2.4min\n",
      "[CV] alpha=1e-05, l1_ratio=0.4 .......................................\n",
      "[CV] ........................ alpha=1e-05, l1_ratio=0.1, total= 2.5min\n",
      "[CV] alpha=1e-05, l1_ratio=0.5 .......................................\n",
      "[CV] ........................ alpha=1e-05, l1_ratio=0.2, total= 1.8min\n",
      "[CV] alpha=1e-05, l1_ratio=0.5 .......................................\n",
      "[CV] ........ alpha=1e-05, l1_ratio=0.30000000000000004, total= 2.5min\n",
      "[CV] alpha=1e-05, l1_ratio=0.5 .......................................\n",
      "[CV] ........................ alpha=1e-05, l1_ratio=0.4, total= 1.7min\n",
      "[CV] alpha=1e-05, l1_ratio=0.6000000000000001 ........................\n",
      "[CV] ........ alpha=1e-05, l1_ratio=0.30000000000000004, total= 2.3min\n",
      "[CV] alpha=1e-05, l1_ratio=0.6000000000000001 ........................\n",
      "[CV] ........ alpha=1e-05, l1_ratio=0.30000000000000004, total= 2.4min\n",
      "[CV] alpha=1e-05, l1_ratio=0.6000000000000001 ........................\n",
      "[CV] ........................ alpha=1e-05, l1_ratio=0.4, total= 2.3min\n",
      "[CV] alpha=1e-05, l1_ratio=0.7000000000000001 ........................\n",
      "[CV] ........................ alpha=1e-05, l1_ratio=0.4, total= 2.4min\n",
      "[CV] alpha=1e-05, l1_ratio=0.7000000000000001 ........................\n",
      "[CV] ........................ alpha=1e-05, l1_ratio=0.5, total= 2.5min\n",
      "[CV] alpha=1e-05, l1_ratio=0.7000000000000001 ........................\n",
      "[CV] ........................ alpha=1e-05, l1_ratio=0.5, total= 2.1min\n",
      "[CV] alpha=1e-05, l1_ratio=0.8 .......................................\n",
      "[CV] ........................ alpha=1e-05, l1_ratio=0.5, total= 2.5min\n",
      "[CV] alpha=1e-05, l1_ratio=0.8 .......................................\n",
      "[CV] ......... alpha=1e-05, l1_ratio=0.6000000000000001, total= 2.6min\n",
      "[CV] alpha=1e-05, l1_ratio=0.8 .......................................\n",
      "[CV] ......... alpha=1e-05, l1_ratio=0.6000000000000001, total= 2.6min\n",
      "[CV] alpha=1e-05, l1_ratio=0.9 .......................................\n",
      "[CV] ......... alpha=1e-05, l1_ratio=0.6000000000000001, total= 2.7min\n",
      "[CV] alpha=1e-05, l1_ratio=0.9 .......................................\n",
      "[CV] ......... alpha=1e-05, l1_ratio=0.7000000000000001, total= 2.6min\n",
      "[CV] alpha=1e-05, l1_ratio=0.9 .......................................\n",
      "[CV] ......... alpha=1e-05, l1_ratio=0.7000000000000001, total= 2.7min\n",
      "[CV] alpha=1e-05, l1_ratio=1.0 .......................................\n",
      "[CV] ......... alpha=1e-05, l1_ratio=0.7000000000000001, total= 2.7min\n",
      "[CV] alpha=1e-05, l1_ratio=1.0 .......................................\n",
      "[CV] ........................ alpha=1e-05, l1_ratio=0.8, total= 2.4min\n",
      "[CV] alpha=1e-05, l1_ratio=1.0 .......................................\n"
     ]
    },
    {
     "name": "stderr",
     "output_type": "stream",
     "text": [
      "[Parallel(n_jobs=8)]: Done  25 tasks      | elapsed:  8.0min\n"
     ]
    },
    {
     "name": "stdout",
     "output_type": "stream",
     "text": [
      "[CV] ........................ alpha=1e-05, l1_ratio=0.8, total= 2.5min\n",
      "[CV] alpha=0.0001, l1_ratio=0.0 ......................................\n",
      "[CV] ........................ alpha=1e-05, l1_ratio=0.8, total= 2.6min\n",
      "[CV] alpha=0.0001, l1_ratio=0.0 ......................................\n",
      "[CV] ........................ alpha=1e-05, l1_ratio=0.9, total= 2.5min\n",
      "[CV] alpha=0.0001, l1_ratio=0.0 ......................................\n",
      "[CV] ........................ alpha=1e-05, l1_ratio=0.9, total= 2.4min\n",
      "[CV] alpha=0.0001, l1_ratio=0.1 ......................................\n",
      "[CV] ........................ alpha=1e-05, l1_ratio=0.9, total= 2.6min\n",
      "[CV] alpha=0.0001, l1_ratio=0.1 ......................................\n",
      "[CV] ........................ alpha=1e-05, l1_ratio=1.0, total= 2.6min\n",
      "[CV] alpha=0.0001, l1_ratio=0.1 ......................................\n",
      "[CV] ....................... alpha=0.0001, l1_ratio=0.0, total= 1.1min\n",
      "[CV] alpha=0.0001, l1_ratio=0.2 ......................................\n",
      "[CV] ........................ alpha=1e-05, l1_ratio=1.0, total= 2.5min\n",
      "[CV] alpha=0.0001, l1_ratio=0.2 ......................................\n",
      "[CV] ....................... alpha=0.0001, l1_ratio=0.0, total= 1.1min\n",
      "[CV] alpha=0.0001, l1_ratio=0.2 ......................................\n",
      "[CV] ........................ alpha=1e-05, l1_ratio=1.0, total= 2.5min\n",
      "[CV] alpha=0.0001, l1_ratio=0.30000000000000004 ......................\n",
      "[CV] ....................... alpha=0.0001, l1_ratio=0.0, total= 1.1min\n",
      "[CV] alpha=0.0001, l1_ratio=0.30000000000000004 ......................\n",
      "[CV] ....................... alpha=0.0001, l1_ratio=0.1, total= 1.1min\n",
      "[CV] alpha=0.0001, l1_ratio=0.30000000000000004 ......................\n",
      "[CV] ....................... alpha=0.0001, l1_ratio=0.1, total= 1.0min\n",
      "[CV] alpha=0.0001, l1_ratio=0.4 ......................................\n",
      "[CV] ....................... alpha=0.0001, l1_ratio=0.1, total= 1.0min\n",
      "[CV] alpha=0.0001, l1_ratio=0.4 ......................................\n",
      "[CV] ....................... alpha=0.0001, l1_ratio=0.2, total= 1.1min\n",
      "[CV] alpha=0.0001, l1_ratio=0.4 ......................................\n",
      "[CV] ....................... alpha=0.0001, l1_ratio=0.2, total= 1.1min\n",
      "[CV] alpha=0.0001, l1_ratio=0.5 ......................................\n",
      "[CV] ....................... alpha=0.0001, l1_ratio=0.2, total= 1.1min\n",
      "[CV] alpha=0.0001, l1_ratio=0.5 ......................................\n",
      "[CV] ....... alpha=0.0001, l1_ratio=0.30000000000000004, total= 1.1min\n",
      "[CV] alpha=0.0001, l1_ratio=0.5 ......................................\n",
      "[CV] ....................... alpha=0.0001, l1_ratio=0.4, total=  56.8s\n",
      "[CV] alpha=0.0001, l1_ratio=0.6000000000000001 .......................\n",
      "[CV] ....... alpha=0.0001, l1_ratio=0.30000000000000004, total= 1.1min\n",
      "[CV] alpha=0.0001, l1_ratio=0.6000000000000001 .......................\n",
      "[CV] ....... alpha=0.0001, l1_ratio=0.30000000000000004, total= 1.1min\n",
      "[CV] alpha=0.0001, l1_ratio=0.6000000000000001 .......................\n",
      "[CV] ....................... alpha=0.0001, l1_ratio=0.4, total= 1.0min\n",
      "[CV] alpha=0.0001, l1_ratio=0.7000000000000001 .......................\n",
      "[CV] ....................... alpha=0.0001, l1_ratio=0.4, total= 1.1min\n",
      "[CV] alpha=0.0001, l1_ratio=0.7000000000000001 .......................\n",
      "[CV] ....................... alpha=0.0001, l1_ratio=0.5, total= 1.1min\n",
      "[CV] alpha=0.0001, l1_ratio=0.7000000000000001 .......................\n",
      "[CV] ....................... alpha=0.0001, l1_ratio=0.5, total= 1.0min\n",
      "[CV] alpha=0.0001, l1_ratio=0.8 ......................................\n",
      "[CV] ....................... alpha=0.0001, l1_ratio=0.5, total= 1.1min\n",
      "[CV] alpha=0.0001, l1_ratio=0.8 ......................................\n",
      "[CV] ........ alpha=0.0001, l1_ratio=0.6000000000000001, total=  57.1s\n",
      "[CV] alpha=0.0001, l1_ratio=0.8 ......................................\n",
      "[CV] ........ alpha=0.0001, l1_ratio=0.6000000000000001, total= 1.1min\n",
      "[CV] alpha=0.0001, l1_ratio=0.9 ......................................\n",
      "[CV] ........ alpha=0.0001, l1_ratio=0.6000000000000001, total= 1.1min\n",
      "[CV] alpha=0.0001, l1_ratio=0.9 ......................................\n",
      "[CV] ........ alpha=0.0001, l1_ratio=0.7000000000000001, total= 1.1min\n",
      "[CV] alpha=0.0001, l1_ratio=0.9 ......................................\n",
      "[CV] ........ alpha=0.0001, l1_ratio=0.7000000000000001, total= 1.1min\n",
      "[CV] alpha=0.0001, l1_ratio=1.0 ......................................\n",
      "[CV] ........ alpha=0.0001, l1_ratio=0.7000000000000001, total= 1.0min\n",
      "[CV] alpha=0.0001, l1_ratio=1.0 ......................................\n",
      "[CV] ....................... alpha=0.0001, l1_ratio=0.8, total= 1.1min\n",
      "[CV] alpha=0.0001, l1_ratio=1.0 ......................................\n",
      "[CV] ....................... alpha=0.0001, l1_ratio=0.8, total= 1.1min\n",
      "[CV] alpha=0.001, l1_ratio=0.0 .......................................\n",
      "[CV] ....................... alpha=0.0001, l1_ratio=0.8, total= 1.0min\n",
      "[CV] alpha=0.001, l1_ratio=0.0 .......................................\n",
      "[CV] ....................... alpha=0.0001, l1_ratio=0.9, total= 1.0min\n",
      "[CV] alpha=0.001, l1_ratio=0.0 .......................................\n",
      "[CV] ....................... alpha=0.0001, l1_ratio=0.9, total= 1.1min\n",
      "[CV] alpha=0.001, l1_ratio=0.1 .......................................\n",
      "[CV] ....................... alpha=0.0001, l1_ratio=0.9, total= 1.1min\n",
      "[CV] alpha=0.001, l1_ratio=0.1 .......................................\n",
      "[CV] ........................ alpha=0.001, l1_ratio=0.0, total=  39.4s\n",
      "[CV] alpha=0.001, l1_ratio=0.1 .......................................\n",
      "[CV] ....................... alpha=0.0001, l1_ratio=1.0, total= 1.0min\n",
      "[CV] alpha=0.001, l1_ratio=0.2 .......................................\n",
      "[CV] ....................... alpha=0.0001, l1_ratio=1.0, total= 1.0min\n",
      "[CV] alpha=0.001, l1_ratio=0.2 .......................................\n",
      "[CV] ........................ alpha=0.001, l1_ratio=0.0, total=  40.6s\n",
      "[CV] alpha=0.001, l1_ratio=0.2 .......................................\n",
      "[CV] ........................ alpha=0.001, l1_ratio=0.0, total=  37.8s\n",
      "[CV] alpha=0.001, l1_ratio=0.30000000000000004 .......................\n",
      "[CV] ....................... alpha=0.0001, l1_ratio=1.0, total= 1.1min\n",
      "[CV] alpha=0.001, l1_ratio=0.30000000000000004 .......................\n",
      "[CV] ........................ alpha=0.001, l1_ratio=0.1, total=  41.1s\n",
      "[CV] alpha=0.001, l1_ratio=0.30000000000000004 .......................\n",
      "[CV] ........................ alpha=0.001, l1_ratio=0.1, total=  41.3s\n",
      "[CV] alpha=0.001, l1_ratio=0.4 .......................................\n",
      "[CV] ........................ alpha=0.001, l1_ratio=0.1, total=  41.0s\n",
      "[CV] alpha=0.001, l1_ratio=0.4 .......................................\n",
      "[CV] ........................ alpha=0.001, l1_ratio=0.2, total=  36.9s\n",
      "[CV] alpha=0.001, l1_ratio=0.4 .......................................\n",
      "[CV] ........................ alpha=0.001, l1_ratio=0.2, total=  41.3s\n",
      "[CV] alpha=0.001, l1_ratio=0.5 .......................................\n",
      "[CV] ........................ alpha=0.001, l1_ratio=0.2, total=  41.3s\n",
      "[CV] alpha=0.001, l1_ratio=0.5 .......................................\n",
      "[CV] ........ alpha=0.001, l1_ratio=0.30000000000000004, total=  37.8s\n",
      "[CV] alpha=0.001, l1_ratio=0.5 .......................................\n",
      "[CV] ........ alpha=0.001, l1_ratio=0.30000000000000004, total=  41.0s\n",
      "[CV] alpha=0.001, l1_ratio=0.6000000000000001 ........................\n",
      "[CV] ........ alpha=0.001, l1_ratio=0.30000000000000004, total=  40.2s\n",
      "[CV] alpha=0.001, l1_ratio=0.6000000000000001 ........................\n",
      "[CV] ........................ alpha=0.001, l1_ratio=0.4, total=  40.9s\n",
      "[CV] alpha=0.001, l1_ratio=0.6000000000000001 ........................\n",
      "[CV] ........................ alpha=0.001, l1_ratio=0.4, total=  41.3s\n",
      "[CV] alpha=0.001, l1_ratio=0.7000000000000001 ........................\n",
      "[CV] ........................ alpha=0.001, l1_ratio=0.5, total=  37.2s\n",
      "[CV] alpha=0.001, l1_ratio=0.7000000000000001 ........................\n",
      "[CV] ........................ alpha=0.001, l1_ratio=0.5, total=  37.5s\n",
      "[CV] alpha=0.001, l1_ratio=0.7000000000000001 ........................\n",
      "[CV] ........................ alpha=0.001, l1_ratio=0.4, total=  41.6s\n",
      "[CV] alpha=0.001, l1_ratio=0.8 .......................................\n"
     ]
    },
    {
     "name": "stdout",
     "output_type": "stream",
     "text": [
      "[CV] ........................ alpha=0.001, l1_ratio=0.5, total=  39.6s\n",
      "[CV] alpha=0.001, l1_ratio=0.8 .......................................\n",
      "[CV] ......... alpha=0.001, l1_ratio=0.6000000000000001, total=  39.7s\n",
      "[CV] alpha=0.001, l1_ratio=0.8 .......................................\n",
      "[CV] ......... alpha=0.001, l1_ratio=0.6000000000000001, total=  42.0s\n",
      "[CV] alpha=0.001, l1_ratio=0.9 .......................................\n",
      "[CV] ......... alpha=0.001, l1_ratio=0.6000000000000001, total=  40.9s\n",
      "[CV] alpha=0.001, l1_ratio=0.9 .......................................\n",
      "[CV] ......... alpha=0.001, l1_ratio=0.7000000000000001, total=  40.6s\n",
      "[CV] alpha=0.001, l1_ratio=0.9 .......................................\n",
      "[CV] ......... alpha=0.001, l1_ratio=0.7000000000000001, total=  36.9s\n",
      "[CV] alpha=0.001, l1_ratio=1.0 .......................................\n",
      "[CV] ........................ alpha=0.001, l1_ratio=0.8, total=  38.4s\n",
      "[CV] alpha=0.001, l1_ratio=1.0 .......................................\n",
      "[CV] ......... alpha=0.001, l1_ratio=0.7000000000000001, total=  41.6s\n",
      "[CV] alpha=0.001, l1_ratio=1.0 .......................................\n",
      "[CV] ........................ alpha=0.001, l1_ratio=0.8, total=  40.2s\n",
      "[CV] alpha=0.01, l1_ratio=0.0 ........................................\n",
      "[CV] ........................ alpha=0.001, l1_ratio=0.8, total=  40.4s\n",
      "[CV] alpha=0.01, l1_ratio=0.0 ........................................\n",
      "[CV] ........................ alpha=0.001, l1_ratio=0.9, total=  40.7s\n",
      "[CV] alpha=0.01, l1_ratio=0.0 ........................................\n",
      "[CV] ........................ alpha=0.001, l1_ratio=0.9, total=  40.2s\n",
      "[CV] alpha=0.01, l1_ratio=0.1 ........................................\n",
      "[CV] ......................... alpha=0.01, l1_ratio=0.0, total=  29.1s\n",
      "[CV] alpha=0.01, l1_ratio=0.1 ........................................\n",
      "[CV] ........................ alpha=0.001, l1_ratio=0.9, total=  40.7s\n",
      "[CV] alpha=0.01, l1_ratio=0.1 ........................................\n",
      "[CV] ........................ alpha=0.001, l1_ratio=1.0, total=  39.4s\n",
      "[CV] alpha=0.01, l1_ratio=0.2 ........................................\n",
      "[CV] ........................ alpha=0.001, l1_ratio=1.0, total=  40.3s\n",
      "[CV] alpha=0.01, l1_ratio=0.2 ........................................\n",
      "[CV] ........................ alpha=0.001, l1_ratio=1.0, total=  40.1s\n",
      "[CV] alpha=0.01, l1_ratio=0.2 ........................................\n",
      "[CV] ......................... alpha=0.01, l1_ratio=0.0, total=  28.7s\n",
      "[CV] alpha=0.01, l1_ratio=0.30000000000000004 ........................\n",
      "[CV] ......................... alpha=0.01, l1_ratio=0.0, total=  32.2s\n",
      "[CV] alpha=0.01, l1_ratio=0.30000000000000004 ........................\n",
      "[CV] ......................... alpha=0.01, l1_ratio=0.1, total=  29.2s\n",
      "[CV] alpha=0.01, l1_ratio=0.30000000000000004 ........................\n",
      "[CV] ......................... alpha=0.01, l1_ratio=0.1, total=  29.8s\n",
      "[CV] alpha=0.01, l1_ratio=0.4 ........................................\n",
      "[CV] ......................... alpha=0.01, l1_ratio=0.1, total=  29.8s\n",
      "[CV] alpha=0.01, l1_ratio=0.4 ........................................\n",
      "[CV] ......................... alpha=0.01, l1_ratio=0.2, total=  32.1s\n",
      "[CV] alpha=0.01, l1_ratio=0.4 ........................................\n",
      "[CV] ......................... alpha=0.01, l1_ratio=0.2, total=  31.3s\n",
      "[CV] alpha=0.01, l1_ratio=0.5 ........................................\n",
      "[CV] ......................... alpha=0.01, l1_ratio=0.2, total=  31.3s\n",
      "[CV] alpha=0.01, l1_ratio=0.5 ........................................\n",
      "[CV] ......... alpha=0.01, l1_ratio=0.30000000000000004, total=  32.2s\n",
      "[CV] alpha=0.01, l1_ratio=0.5 ........................................\n",
      "[CV] ......... alpha=0.01, l1_ratio=0.30000000000000004, total=  31.2s\n",
      "[CV] alpha=0.01, l1_ratio=0.6000000000000001 .........................\n",
      "[CV] ......... alpha=0.01, l1_ratio=0.30000000000000004, total=  29.4s\n",
      "[CV] alpha=0.01, l1_ratio=0.6000000000000001 .........................\n",
      "[CV] ......................... alpha=0.01, l1_ratio=0.4, total=  29.5s\n",
      "[CV] alpha=0.01, l1_ratio=0.6000000000000001 .........................\n",
      "[CV] ......................... alpha=0.01, l1_ratio=0.4, total=  29.3s\n",
      "[CV] alpha=0.01, l1_ratio=0.7000000000000001 .........................\n",
      "[CV] ......................... alpha=0.01, l1_ratio=0.4, total=  30.2s\n",
      "[CV] alpha=0.01, l1_ratio=0.7000000000000001 .........................\n",
      "[CV] ......................... alpha=0.01, l1_ratio=0.5, total=  31.8s\n",
      "[CV] alpha=0.01, l1_ratio=0.7000000000000001 .........................\n",
      "[CV] ......................... alpha=0.01, l1_ratio=0.5, total=  31.1s\n",
      "[CV] alpha=0.01, l1_ratio=0.8 ........................................\n",
      "[CV] ......................... alpha=0.01, l1_ratio=0.5, total=  28.8s\n",
      "[CV] alpha=0.01, l1_ratio=0.8 ........................................\n",
      "[CV] .......... alpha=0.01, l1_ratio=0.6000000000000001, total=  31.4s\n",
      "[CV] alpha=0.01, l1_ratio=0.8 ........................................\n",
      "[CV] .......... alpha=0.01, l1_ratio=0.6000000000000001, total=  30.1s\n",
      "[CV] alpha=0.01, l1_ratio=0.9 ........................................\n",
      "[CV] .......... alpha=0.01, l1_ratio=0.6000000000000001, total=  29.5s\n",
      "[CV] alpha=0.01, l1_ratio=0.9 ........................................\n",
      "[CV] .......... alpha=0.01, l1_ratio=0.7000000000000001, total=  29.3s\n",
      "[CV] alpha=0.01, l1_ratio=0.9 ........................................\n",
      "[CV] .......... alpha=0.01, l1_ratio=0.7000000000000001, total=  30.3s\n",
      "[CV] alpha=0.01, l1_ratio=1.0 ........................................\n",
      "[CV] ......................... alpha=0.01, l1_ratio=0.8, total=  29.5s\n",
      "[CV] alpha=0.01, l1_ratio=1.0 ........................................\n",
      "[CV] ......................... alpha=0.01, l1_ratio=0.8, total=  29.8s\n",
      "[CV] alpha=0.01, l1_ratio=1.0 ........................................\n",
      "[CV] .......... alpha=0.01, l1_ratio=0.7000000000000001, total=  31.6s\n",
      "[CV] alpha=0.1, l1_ratio=0.0 .........................................\n",
      "[CV] ......................... alpha=0.01, l1_ratio=0.8, total=  29.6s\n",
      "[CV] alpha=0.1, l1_ratio=0.0 .........................................\n",
      "[CV] ......................... alpha=0.01, l1_ratio=0.9, total=  30.8s\n",
      "[CV] alpha=0.1, l1_ratio=0.0 .........................................\n",
      "[CV] ......................... alpha=0.01, l1_ratio=0.9, total=  28.7s\n",
      "[CV] alpha=0.1, l1_ratio=0.1 .........................................\n",
      "[CV] ......................... alpha=0.01, l1_ratio=0.9, total=  31.3s\n",
      "[CV] alpha=0.1, l1_ratio=0.1 .........................................\n",
      "[CV] ......................... alpha=0.01, l1_ratio=1.0, total=  30.5s\n",
      "[CV] alpha=0.1, l1_ratio=0.1 .........................................\n",
      "[CV] .......................... alpha=0.1, l1_ratio=0.0, total=  26.4s\n",
      "[CV] alpha=0.1, l1_ratio=0.2 .........................................\n",
      "[CV] .......................... alpha=0.1, l1_ratio=0.0, total=  28.9s\n",
      "[CV] alpha=0.1, l1_ratio=0.2 .........................................\n",
      "[CV] ......................... alpha=0.01, l1_ratio=1.0, total=  30.7s\n",
      "[CV] alpha=0.1, l1_ratio=0.2 .........................................\n",
      "[CV] ......................... alpha=0.01, l1_ratio=1.0, total=  31.6s\n",
      "[CV] alpha=0.1, l1_ratio=0.30000000000000004 .........................\n",
      "[CV] .......................... alpha=0.1, l1_ratio=0.0, total=  28.1s\n",
      "[CV] alpha=0.1, l1_ratio=0.30000000000000004 .........................\n",
      "[CV] .......................... alpha=0.1, l1_ratio=0.1, total=  29.3s\n",
      "[CV] alpha=0.1, l1_ratio=0.30000000000000004 .........................\n",
      "[CV] .......................... alpha=0.1, l1_ratio=0.1, total=  29.6s\n",
      "[CV] alpha=0.1, l1_ratio=0.4 .........................................\n",
      "[CV] .......................... alpha=0.1, l1_ratio=0.1, total=  29.7s\n",
      "[CV] alpha=0.1, l1_ratio=0.4 .........................................\n",
      "[CV] .......................... alpha=0.1, l1_ratio=0.2, total=  27.3s\n",
      "[CV] alpha=0.1, l1_ratio=0.4 .........................................\n",
      "[CV] .......................... alpha=0.1, l1_ratio=0.2, total=  29.4s\n",
      "[CV] .......................... alpha=0.1, l1_ratio=0.2, total=  30.5s\n",
      "[CV] alpha=0.1, l1_ratio=0.5 .........................................\n",
      "[CV] alpha=0.1, l1_ratio=0.5 .........................................\n"
     ]
    },
    {
     "name": "stdout",
     "output_type": "stream",
     "text": [
      "[CV] .......... alpha=0.1, l1_ratio=0.30000000000000004, total=  30.0s\n",
      "[CV] alpha=0.1, l1_ratio=0.5 .........................................\n",
      "[CV] .......... alpha=0.1, l1_ratio=0.30000000000000004, total=  28.6s\n",
      "[CV] alpha=0.1, l1_ratio=0.6000000000000001 ..........................\n",
      "[CV] .......... alpha=0.1, l1_ratio=0.30000000000000004, total=  28.6s\n",
      "[CV] alpha=0.1, l1_ratio=0.6000000000000001 ..........................\n",
      "[CV] .......................... alpha=0.1, l1_ratio=0.4, total=  28.8s\n",
      "[CV] alpha=0.1, l1_ratio=0.6000000000000001 ..........................\n",
      "[CV] .......................... alpha=0.1, l1_ratio=0.4, total=  28.9s\n",
      "[CV] alpha=0.1, l1_ratio=0.7000000000000001 ..........................\n"
     ]
    },
    {
     "name": "stderr",
     "output_type": "stream",
     "text": [
      "[Parallel(n_jobs=8)]: Done 146 tasks      | elapsed: 20.3min\n"
     ]
    },
    {
     "name": "stdout",
     "output_type": "stream",
     "text": [
      "[CV] .......................... alpha=0.1, l1_ratio=0.5, total=  26.2s\n",
      "[CV] alpha=0.1, l1_ratio=0.7000000000000001 ..........................\n",
      "[CV] .......................... alpha=0.1, l1_ratio=0.4, total=  31.0s\n",
      "[CV] alpha=0.1, l1_ratio=0.7000000000000001 ..........................\n",
      "[CV] .......................... alpha=0.1, l1_ratio=0.5, total=  30.2s\n",
      "[CV] alpha=0.1, l1_ratio=0.8 .........................................\n",
      "[CV] .......................... alpha=0.1, l1_ratio=0.5, total=  30.2s\n",
      "[CV] alpha=0.1, l1_ratio=0.8 .........................................\n",
      "[CV] ........... alpha=0.1, l1_ratio=0.6000000000000001, total=  29.8s\n",
      "[CV] alpha=0.1, l1_ratio=0.8 .........................................\n",
      "[CV] ........... alpha=0.1, l1_ratio=0.6000000000000001, total=  29.8s\n",
      "[CV] alpha=0.1, l1_ratio=0.9 .........................................\n",
      "[CV] ........... alpha=0.1, l1_ratio=0.6000000000000001, total=  30.4s\n",
      "[CV] alpha=0.1, l1_ratio=0.9 .........................................\n",
      "[CV] ........... alpha=0.1, l1_ratio=0.7000000000000001, total=  29.3s\n",
      "[CV] alpha=0.1, l1_ratio=0.9 .........................................\n",
      "[CV] ........... alpha=0.1, l1_ratio=0.7000000000000001, total=  28.0s\n",
      "[CV] alpha=0.1, l1_ratio=1.0 .........................................\n",
      "[CV] .......................... alpha=0.1, l1_ratio=0.8, total=  27.8s\n",
      "[CV] alpha=0.1, l1_ratio=1.0 .........................................\n",
      "[CV] ........... alpha=0.1, l1_ratio=0.7000000000000001, total=  30.4s\n",
      "[CV] alpha=0.1, l1_ratio=1.0 .........................................\n",
      "[CV] .......................... alpha=0.1, l1_ratio=0.8, total=  29.4s\n",
      "[CV] alpha=1, l1_ratio=0.0 ...........................................\n",
      "[CV] .......................... alpha=0.1, l1_ratio=0.9, total=  26.6s\n",
      "[CV] alpha=1, l1_ratio=0.0 ...........................................\n",
      "[CV] .......................... alpha=0.1, l1_ratio=0.8, total=  30.5s\n",
      "[CV] alpha=1, l1_ratio=0.0 ...........................................\n",
      "[CV] .......................... alpha=0.1, l1_ratio=0.9, total=  29.0s\n",
      "[CV] alpha=1, l1_ratio=0.1 ...........................................\n",
      "[CV] .......................... alpha=0.1, l1_ratio=1.0, total=  27.0s\n",
      "[CV] alpha=1, l1_ratio=0.1 ...........................................\n",
      "[CV] .......................... alpha=0.1, l1_ratio=0.9, total=  30.2s\n",
      "[CV] alpha=1, l1_ratio=0.1 ...........................................\n",
      "[CV] .......................... alpha=0.1, l1_ratio=1.0, total=  29.2s\n",
      "[CV] alpha=1, l1_ratio=0.2 ...........................................\n",
      "[CV] .......................... alpha=0.1, l1_ratio=1.0, total=  29.5s\n",
      "[CV] alpha=1, l1_ratio=0.2 ...........................................\n",
      "[CV] ............................ alpha=1, l1_ratio=0.0, total= 1.1min\n",
      "[CV] alpha=1, l1_ratio=0.2 ...........................................\n",
      "[CV] ............................ alpha=1, l1_ratio=0.0, total=  59.7s\n",
      "[CV] alpha=1, l1_ratio=0.30000000000000004 ...........................\n",
      "[CV] ............................ alpha=1, l1_ratio=0.0, total= 1.1min\n",
      "[CV] alpha=1, l1_ratio=0.30000000000000004 ...........................\n",
      "[CV] ............................ alpha=1, l1_ratio=0.1, total= 1.1min\n",
      "[CV] alpha=1, l1_ratio=0.30000000000000004 ...........................\n",
      "[CV] ............................ alpha=1, l1_ratio=0.1, total= 1.1min\n",
      "[CV] alpha=1, l1_ratio=0.4 ...........................................\n",
      "[CV] ............................ alpha=1, l1_ratio=0.1, total= 1.1min\n",
      "[CV] alpha=1, l1_ratio=0.4 ...........................................\n",
      "[CV] ............................ alpha=1, l1_ratio=0.2, total= 1.0min\n",
      "[CV] alpha=1, l1_ratio=0.4 ...........................................\n",
      "[CV] ............................ alpha=1, l1_ratio=0.2, total= 1.1min\n",
      "[CV] alpha=1, l1_ratio=0.5 ...........................................\n",
      "[CV] ............................ alpha=1, l1_ratio=0.2, total= 1.1min\n",
      "[CV] alpha=1, l1_ratio=0.5 ...........................................\n",
      "[CV] ............ alpha=1, l1_ratio=0.30000000000000004, total= 1.1min\n",
      "[CV] alpha=1, l1_ratio=0.5 ...........................................\n",
      "[CV] ............ alpha=1, l1_ratio=0.30000000000000004, total= 1.1min\n",
      "[CV] alpha=1, l1_ratio=0.6000000000000001 ............................\n",
      "[CV] ............................ alpha=1, l1_ratio=0.4, total=  59.7s\n",
      "[CV] alpha=1, l1_ratio=0.6000000000000001 ............................\n",
      "[CV] ............ alpha=1, l1_ratio=0.30000000000000004, total= 1.1min\n",
      "[CV] alpha=1, l1_ratio=0.6000000000000001 ............................\n",
      "[CV] ............................ alpha=1, l1_ratio=0.4, total= 1.0min\n",
      "[CV] alpha=1, l1_ratio=0.7000000000000001 ............................\n",
      "[CV] ............................ alpha=1, l1_ratio=0.4, total= 1.1min\n",
      "[CV] alpha=1, l1_ratio=0.7000000000000001 ............................\n",
      "[CV] ............................ alpha=1, l1_ratio=0.5, total= 1.1min\n",
      "[CV] alpha=1, l1_ratio=0.7000000000000001 ............................\n",
      "[CV] ............................ alpha=1, l1_ratio=0.5, total= 1.1min\n",
      "[CV] alpha=1, l1_ratio=0.8 ...........................................\n",
      "[CV] ............................ alpha=1, l1_ratio=0.5, total= 1.0min\n",
      "[CV] alpha=1, l1_ratio=0.8 ...........................................\n",
      "[CV] ............. alpha=1, l1_ratio=0.6000000000000001, total= 1.1min\n",
      "[CV] alpha=1, l1_ratio=0.8 ...........................................\n",
      "[CV] ............. alpha=1, l1_ratio=0.6000000000000001, total= 1.1min\n",
      "[CV] alpha=1, l1_ratio=0.9 ...........................................\n",
      "[CV] ............. alpha=1, l1_ratio=0.6000000000000001, total= 1.1min\n",
      "[CV] alpha=1, l1_ratio=0.9 ...........................................\n",
      "[CV] ............. alpha=1, l1_ratio=0.7000000000000001, total= 1.0min\n",
      "[CV] alpha=1, l1_ratio=0.9 ...........................................\n",
      "[CV] ............. alpha=1, l1_ratio=0.7000000000000001, total= 1.1min\n",
      "[CV] alpha=1, l1_ratio=1.0 ...........................................\n",
      "[CV] ............. alpha=1, l1_ratio=0.7000000000000001, total= 1.1min\n",
      "[CV] alpha=1, l1_ratio=1.0 ...........................................\n",
      "[CV] ............................ alpha=1, l1_ratio=0.8, total= 1.0min\n",
      "[CV] alpha=1, l1_ratio=1.0 ...........................................\n",
      "[CV] ............................ alpha=1, l1_ratio=0.8, total= 1.1min\n",
      "[CV] ............................ alpha=1, l1_ratio=0.8, total= 1.0min\n",
      "[CV] ............................ alpha=1, l1_ratio=0.9, total= 1.0min\n",
      "[CV] ............................ alpha=1, l1_ratio=0.9, total= 1.0min\n",
      "[CV] ............................ alpha=1, l1_ratio=0.9, total= 1.1min\n",
      "[CV] ............................ alpha=1, l1_ratio=1.0, total= 1.1min\n",
      "[CV] ............................ alpha=1, l1_ratio=1.0, total= 1.0min\n",
      "[CV] ............................ alpha=1, l1_ratio=1.0, total=  47.3s\n"
     ]
    },
    {
     "name": "stderr",
     "output_type": "stream",
     "text": [
      "[Parallel(n_jobs=8)]: Done 198 out of 198 | elapsed: 26.1min finished\n"
     ]
    },
    {
     "data": {
      "text/plain": [
       "GridSearchCV(cv=3, error_score='raise',\n",
       "       estimator=SGDClassifier(alpha=0.0001, average=False, class_weight=None, epsilon=0.1,\n",
       "       eta0=0.0, fit_intercept=True, l1_ratio=0.15,\n",
       "       learning_rate='optimal', loss='log', max_iter=100, n_iter=None,\n",
       "       n_jobs=1, penalty='l2', power_t=0.5, random_state=None,\n",
       "       shuffle=True, tol=0.001, verbose=0, warm_start=False),\n",
       "       fit_params=None, iid=True, n_jobs=8,\n",
       "       param_grid={'l1_ratio': array([0. , 0.1, 0.2, 0.3, 0.4, 0.5, 0.6, 0.7, 0.8, 0.9, 1. ]), 'alpha': [1e-05, 0.0001, 0.001, 0.01, 0.1, 1]},\n",
       "       pre_dispatch='2*n_jobs', refit=True, return_train_score='warn',\n",
       "       scoring=None, verbose=2)"
      ]
     },
     "execution_count": 34,
     "metadata": {},
     "output_type": "execute_result"
    }
   ],
   "source": [
    "hsearch.fit(X_train, Y_train)\n"
   ]
  },
  {
   "cell_type": "code",
   "execution_count": 35,
   "metadata": {},
   "outputs": [],
   "source": [
    "means = hsearch.cv_results_['mean_test_score']\n",
    "stds = hsearch.cv_results_['std_test_score']"
   ]
  },
  {
   "cell_type": "code",
   "execution_count": 38,
   "metadata": {},
   "outputs": [
    {
     "name": "stdout",
     "output_type": "stream",
     "text": [
      "0.32377 (+/-0.00315) for {'alpha': 1e-05, 'l1_ratio': 0.0}\n",
      "0.32377 (+/-0.00315) for {'alpha': 1e-05, 'l1_ratio': 0.1}\n",
      "0.32276 (+/-0.00311) for {'alpha': 1e-05, 'l1_ratio': 0.2}\n",
      "0.32161 (+/-0.01044) for {'alpha': 1e-05, 'l1_ratio': 0.30000000000000004}\n",
      "0.32161 (+/-0.01044) for {'alpha': 1e-05, 'l1_ratio': 0.4}\n",
      "0.32361 (+/-0.00660) for {'alpha': 1e-05, 'l1_ratio': 0.5}\n",
      "0.32338 (+/-0.00599) for {'alpha': 1e-05, 'l1_ratio': 0.6000000000000001}\n",
      "0.32338 (+/-0.00599) for {'alpha': 1e-05, 'l1_ratio': 0.7000000000000001}\n",
      "0.32145 (+/-0.00747) for {'alpha': 1e-05, 'l1_ratio': 0.8}\n",
      "0.32145 (+/-0.00747) for {'alpha': 1e-05, 'l1_ratio': 0.9}\n",
      "0.32166 (+/-0.00753) for {'alpha': 1e-05, 'l1_ratio': 1.0}\n",
      "0.33817 (+/-0.00348) for {'alpha': 0.0001, 'l1_ratio': 0.0}\n",
      "0.33817 (+/-0.00348) for {'alpha': 0.0001, 'l1_ratio': 0.1}\n",
      "0.33761 (+/-0.00172) for {'alpha': 0.0001, 'l1_ratio': 0.2}\n",
      "0.33785 (+/-0.00142) for {'alpha': 0.0001, 'l1_ratio': 0.30000000000000004}\n",
      "0.33761 (+/-0.00196) for {'alpha': 0.0001, 'l1_ratio': 0.4}\n",
      "0.33766 (+/-0.00197) for {'alpha': 0.0001, 'l1_ratio': 0.5}\n",
      "0.33829 (+/-0.00357) for {'alpha': 0.0001, 'l1_ratio': 0.6000000000000001}\n",
      "0.33805 (+/-0.00378) for {'alpha': 0.0001, 'l1_ratio': 0.7000000000000001}\n",
      "0.33857 (+/-0.00296) for {'alpha': 0.0001, 'l1_ratio': 0.8}\n",
      "0.33857 (+/-0.00296) for {'alpha': 0.0001, 'l1_ratio': 0.9}\n",
      "0.33803 (+/-0.00145) for {'alpha': 0.0001, 'l1_ratio': 1.0}\n",
      "0.33687 (+/-0.00130) for {'alpha': 0.001, 'l1_ratio': 0.0}\n",
      "0.33676 (+/-0.00135) for {'alpha': 0.001, 'l1_ratio': 0.1}\n",
      "0.33715 (+/-0.00097) for {'alpha': 0.001, 'l1_ratio': 0.2}\n",
      "0.33709 (+/-0.00085) for {'alpha': 0.001, 'l1_ratio': 0.30000000000000004}\n",
      "0.33674 (+/-0.00109) for {'alpha': 0.001, 'l1_ratio': 0.4}\n",
      "0.33674 (+/-0.00109) for {'alpha': 0.001, 'l1_ratio': 0.5}\n",
      "0.33697 (+/-0.00173) for {'alpha': 0.001, 'l1_ratio': 0.6000000000000001}\n",
      "0.33690 (+/-0.00215) for {'alpha': 0.001, 'l1_ratio': 0.7000000000000001}\n",
      "0.33684 (+/-0.00224) for {'alpha': 0.001, 'l1_ratio': 0.8}\n",
      "0.33720 (+/-0.00193) for {'alpha': 0.001, 'l1_ratio': 0.9}\n",
      "0.33704 (+/-0.00147) for {'alpha': 0.001, 'l1_ratio': 1.0}\n",
      "0.29706 (+/-0.00157) for {'alpha': 0.01, 'l1_ratio': 0.0}\n",
      "0.29684 (+/-0.00104) for {'alpha': 0.01, 'l1_ratio': 0.1}\n",
      "0.29657 (+/-0.00146) for {'alpha': 0.01, 'l1_ratio': 0.2}\n",
      "0.29655 (+/-0.00148) for {'alpha': 0.01, 'l1_ratio': 0.30000000000000004}\n",
      "0.29658 (+/-0.00106) for {'alpha': 0.01, 'l1_ratio': 0.4}\n",
      "0.29667 (+/-0.00131) for {'alpha': 0.01, 'l1_ratio': 0.5}\n",
      "0.29658 (+/-0.00106) for {'alpha': 0.01, 'l1_ratio': 0.6000000000000001}\n",
      "0.29668 (+/-0.00148) for {'alpha': 0.01, 'l1_ratio': 0.7000000000000001}\n",
      "0.29673 (+/-0.00145) for {'alpha': 0.01, 'l1_ratio': 0.8}\n",
      "0.29658 (+/-0.00105) for {'alpha': 0.01, 'l1_ratio': 0.9}\n",
      "0.29679 (+/-0.00136) for {'alpha': 0.01, 'l1_ratio': 1.0}\n",
      "0.29016 (+/-0.00004) for {'alpha': 0.1, 'l1_ratio': 0.0}\n",
      "0.29016 (+/-0.00004) for {'alpha': 0.1, 'l1_ratio': 0.1}\n",
      "0.29016 (+/-0.00004) for {'alpha': 0.1, 'l1_ratio': 0.2}\n",
      "0.29016 (+/-0.00004) for {'alpha': 0.1, 'l1_ratio': 0.30000000000000004}\n",
      "0.29016 (+/-0.00004) for {'alpha': 0.1, 'l1_ratio': 0.4}\n",
      "0.29016 (+/-0.00004) for {'alpha': 0.1, 'l1_ratio': 0.5}\n",
      "0.29016 (+/-0.00004) for {'alpha': 0.1, 'l1_ratio': 0.6000000000000001}\n",
      "0.29016 (+/-0.00004) for {'alpha': 0.1, 'l1_ratio': 0.7000000000000001}\n",
      "0.29016 (+/-0.00004) for {'alpha': 0.1, 'l1_ratio': 0.8}\n",
      "0.29016 (+/-0.00004) for {'alpha': 0.1, 'l1_ratio': 0.9}\n",
      "0.29016 (+/-0.00004) for {'alpha': 0.1, 'l1_ratio': 1.0}\n",
      "0.29016 (+/-0.00004) for {'alpha': 1, 'l1_ratio': 0.0}\n",
      "0.29016 (+/-0.00004) for {'alpha': 1, 'l1_ratio': 0.1}\n",
      "0.29016 (+/-0.00004) for {'alpha': 1, 'l1_ratio': 0.2}\n",
      "0.29016 (+/-0.00004) for {'alpha': 1, 'l1_ratio': 0.30000000000000004}\n",
      "0.29016 (+/-0.00004) for {'alpha': 1, 'l1_ratio': 0.4}\n",
      "0.29016 (+/-0.00004) for {'alpha': 1, 'l1_ratio': 0.5}\n",
      "0.29016 (+/-0.00004) for {'alpha': 1, 'l1_ratio': 0.6000000000000001}\n",
      "0.29016 (+/-0.00004) for {'alpha': 1, 'l1_ratio': 0.7000000000000001}\n",
      "0.29016 (+/-0.00004) for {'alpha': 1, 'l1_ratio': 0.8}\n",
      "0.29016 (+/-0.00004) for {'alpha': 1, 'l1_ratio': 0.9}\n",
      "0.29016 (+/-0.00004) for {'alpha': 1, 'l1_ratio': 1.0}\n"
     ]
    }
   ],
   "source": [
    "for mean, std, params in zip(means, stds, hsearch.cv_results_['params']):\n",
    "       print(\"%0.5f (+/-%0.05f) for %r\" % (mean, std * 2, params))"
   ]
  },
  {
   "cell_type": "code",
   "execution_count": null,
   "metadata": {},
   "outputs": [],
   "source": []
  }
 ],
 "metadata": {
  "kernelspec": {
   "display_name": "Python [conda env:anaconda3]",
   "language": "python",
   "name": "conda-env-anaconda3-py"
  },
  "language_info": {
   "codemirror_mode": {
    "name": "ipython",
    "version": 3
   },
   "file_extension": ".py",
   "mimetype": "text/x-python",
   "name": "python",
   "nbconvert_exporter": "python",
   "pygments_lexer": "ipython3",
   "version": "3.6.5"
  }
 },
 "nbformat": 4,
 "nbformat_minor": 2
}

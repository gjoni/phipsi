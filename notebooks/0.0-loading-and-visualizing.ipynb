{
 "cells": [
  {
   "cell_type": "markdown",
   "metadata": {},
   "source": [
    "# Dataset\n",
    "\n",
    "* 10,882 protein chains from high-res (< 2.5Å) structures from PDB (Nov 2018)\n",
    "* length ≥ 40 amino acids\n",
    "* the set is cleaned at 30% sequence identity\n",
    "* chains are not supposed to have any chain breaks (missing residues)"
   ]
  },
  {
   "cell_type": "code",
   "execution_count": 21,
   "metadata": {
    "collapsed": true
   },
   "outputs": [],
   "source": [
    "import json, gzip\n",
    "\n",
    "with gzip.open('../data/phipsi.json.gz', 'rb') as f:\n",
    "    dataset = json.load(f)"
   ]
  },
  {
   "cell_type": "markdown",
   "metadata": {},
   "source": [
    "```dataset``` is a Python dictionary with just one entry: the key ```'phipsi10882'``` is pointing to a list of 10,882 elements. Each element describes one protein chain and is represented by a dictionary with three entries:\n",
    "* ```'sequence'``` - 1-letter amino acid sequence\n",
    "* ```'phi'``` - list of &phi; angles\n",
    "* ```'psi'``` - list of &psi; angles"
   ]
  },
  {
   "cell_type": "code",
   "execution_count": 22,
   "metadata": {
    "collapsed": false
   },
   "outputs": [
    {
     "name": "stdout",
     "output_type": "stream",
     "text": [
      "Number of proteins in the set: 10882\n",
      "Keys of the first entry (and all others): [u'phi', u'psi', u'sequence']\n"
     ]
    }
   ],
   "source": [
    "print(\"Number of proteins in the set: {}\".format(len(dataset['phipsi10882'])))\n",
    "print(\"Keys of the first entry (and all others): {}\".format(dataset['phipsi10882'][0].keys()))"
   ]
  },
  {
   "cell_type": "code",
   "execution_count": 23,
   "metadata": {
    "collapsed": false
   },
   "outputs": [],
   "source": [
    "# reduse to a list to simplify access\n",
    "dataset = dataset['phipsi10882']"
   ]
  },
  {
   "cell_type": "markdown",
   "metadata": {},
   "source": [
    "Next steps:\n",
    "* convert sequences to numbers and store as numpy array\n",
    "* merge phi,psi into one numpy array\n",
    "* get rid of first and last residues (due to unknown dihedrals)"
   ]
  },
  {
   "cell_type": "code",
   "execution_count": null,
   "metadata": {
    "collapsed": true
   },
   "outputs": [],
   "source": []
  }
 ],
 "metadata": {
  "anaconda-cloud": {},
  "kernelspec": {
   "display_name": "Python [conda root]",
   "language": "python",
   "name": "conda-root-py"
  },
  "language_info": {
   "codemirror_mode": {
    "name": "ipython",
    "version": 2
   },
   "file_extension": ".py",
   "mimetype": "text/x-python",
   "name": "python",
   "nbconvert_exporter": "python",
   "pygments_lexer": "ipython2",
   "version": "2.7.12"
  }
 },
 "nbformat": 4,
 "nbformat_minor": 1
}
